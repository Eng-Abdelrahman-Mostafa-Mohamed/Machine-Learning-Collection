{
  "nbformat": 4,
  "nbformat_minor": 0,
  "metadata": {
    "colab": {
      "provenance": [],
      "authorship_tag": "ABX9TyMp+rsPgNs/1y0LBhMdqTSI",
      "include_colab_link": true
    },
    "kernelspec": {
      "name": "python3",
      "display_name": "Python 3"
    },
    "language_info": {
      "name": "python"
    }
  },
  "cells": [
    {
      "cell_type": "markdown",
      "metadata": {
        "id": "view-in-github",
        "colab_type": "text"
      },
      "source": [
        "<a href=\"https://colab.research.google.com/github/Eng-Abdelrahman-Mostafa-Mohamed/Machine-Learning-Collection/blob/master/MINSIT_DATASET.ipynb\" target=\"_parent\"><img src=\"https://colab.research.google.com/assets/colab-badge.svg\" alt=\"Open In Colab\"/></a>"
      ]
    },
    {
      "cell_type": "code",
      "execution_count": 73,
      "metadata": {
        "id": "0UiyWd5OzvPt"
      },
      "outputs": [],
      "source": [
        "import numpy as np\n",
        "import pandas as pd\n",
        "import matplotlib.pyplot as plt\n",
        "import warnings\n",
        "import tensorflow as tf\n",
        "warnings.filterwarnings('ignore')"
      ]
    },
    {
      "cell_type": "code",
      "source": [
        "#loading the data\n",
        "(x_train, y_train), (x_test, y_test) = tf.keras.datasets.mnist.load_data()"
      ],
      "metadata": {
        "id": "dDqg-PGNz3Oi"
      },
      "execution_count": 74,
      "outputs": []
    },
    {
      "cell_type": "code",
      "source": [
        " # subsetting for classes 0,1 only\n",
        "\n",
        "x_train = x_train[np.logical_or(y_train == 0, y_train == 1)]\n",
        "y_train = y_train[np.logical_or(y_train == 0, y_train == 1)]\n",
        "\n",
        "x_test = x_test[np.logical_or(y_test == 0, y_test == 1)]\n",
        "y_test = y_test[np.logical_or(y_test == 0, y_test == 1)]\n"
      ],
      "metadata": {
        "id": "NXx8bihsz5kW"
      },
      "execution_count": 75,
      "outputs": []
    },
    {
      "cell_type": "code",
      "source": [
        "np.unique(y_train), np.unique(y_test)"
      ],
      "metadata": {
        "colab": {
          "base_uri": "https://localhost:8080/"
        },
        "id": "CkieFdufz8c6",
        "outputId": "67e07bce-e0ae-4d80-d7b3-0f160d3faf2e"
      },
      "execution_count": 76,
      "outputs": [
        {
          "output_type": "execute_result",
          "data": {
            "text/plain": [
              "(array([0, 1], dtype=uint8), array([0, 1], dtype=uint8))"
            ]
          },
          "metadata": {},
          "execution_count": 76
        }
      ]
    },
    {
      "cell_type": "code",
      "source": [
        "x_train=x_train.reshape(len(x_train),-1)"
      ],
      "metadata": {
        "id": "ZZ81EwPW0G8i"
      },
      "execution_count": 77,
      "outputs": []
    },
    {
      "cell_type": "code",
      "source": [
        "x_test=x_test.reshape(len(x_test),-1)"
      ],
      "metadata": {
        "id": "F6NGu7AJ0eKS"
      },
      "execution_count": 78,
      "outputs": []
    },
    {
      "cell_type": "code",
      "source": [
        "x_train.shape[0]"
      ],
      "metadata": {
        "colab": {
          "base_uri": "https://localhost:8080/"
        },
        "id": "gxvKvcz30h1c",
        "outputId": "85b1362b-15e2-4d04-fb13-41b7f7af155e"
      },
      "execution_count": 79,
      "outputs": [
        {
          "output_type": "execute_result",
          "data": {
            "text/plain": [
              "12665"
            ]
          },
          "metadata": {},
          "execution_count": 79
        }
      ]
    },
    {
      "cell_type": "code",
      "source": [
        "x_train=(x_train-np.mean(x_train,axis=0))/(np.std(x_train,axis=0)+10e-16)\n",
        "x_test=(x_test-np.mean(x_test,axis=0))/(np.std(x_test,axis=0)+10e-16)"
      ],
      "metadata": {
        "id": "st8XfFja0o5P"
      },
      "execution_count": 80,
      "outputs": []
    },
    {
      "cell_type": "code",
      "source": [
        "def sigmoid(z):\n",
        "        return 1.0 / (1.0 + np.exp(-z))"
      ],
      "metadata": {
        "id": "qvuivMVa0u9i"
      },
      "execution_count": 81,
      "outputs": []
    },
    {
      "cell_type": "code",
      "source": [
        "def cost_function(phiz, y_train):\n",
        "      return (y_train * np.log(phiz) - (1 - y_train) * np.log(1 - phiz)).mean()"
      ],
      "metadata": {
        "id": "5_Zt625M0xRv"
      },
      "execution_count": 82,
      "outputs": []
    },
    {
      "cell_type": "code",
      "source": [
        "cv=10\n",
        "epochs=100\n",
        "eta=[0.001,0.01,0.1]\n",
        "tolerance = 10e-8\n",
        "Accuracy=0\n",
        "split=((10/100)*x_train.shape[0])\n",
        "split=int(split)\n",
        "learning_rate=[]\n",
        "avg_accuracy=[]\n",
        "weights=[]\n",
        "bais=[]"
      ],
      "metadata": {
        "id": "4yU93vra07it"
      },
      "execution_count": 83,
      "outputs": []
    },
    {
      "cell_type": "code",
      "source": [
        "def Gradient_Descent(X_train,Y_train,w,b,epochs,eta):\n",
        "  for i in range (epochs):\n",
        "        z=np.dot(x_train,w.T)+b\n",
        "        phiZ = sigmoid(z)\n",
        "        Cost[i] =cost_function(phiZ, y_train)\n",
        "        w = w - (eta * np.dot((phiZ - y_train).T , x_train)) /len(x_train)\n",
        "        b = b - eta * np.mean(phiZ - y_train)\n",
        "        if (Cost[i]<tolerance):\n",
        "          break;\n",
        "  return w,b,eta  "
      ],
      "metadata": {
        "id": "VHhtL4Dt1BbI"
      },
      "execution_count": 84,
      "outputs": []
    },
    {
      "cell_type": "code",
      "source": [
        "for i in range(len(eta)):\n",
        "      for j in range(cv):\n",
        "        if(j==0):\n",
        "          M=0\n",
        "          N=split\n",
        "        w=np.random.rand(784)\n",
        "        b=np.random.rand(1)\n",
        "        Cost=np.zeros(epochs)\n",
        "        X_train=np.delete(x_train,slice(M,N),0)\n",
        "        Y_train=np.delete(y_train,slice(M,N),0)\n",
        "        w,b,eta[i]=Gradient_Descent(X_train,Y_train,w,b,epochs,eta[i])\n",
        "        x_validation=x_train[M:N,:]\n",
        "        y_validation=y_train[M:N]\n",
        "        z=np.dot(x_validation,w.T)+b\n",
        "        y_pred =sigmoid(z)\n",
        "        for k in range(len(y_pred)):\n",
        "          if (y_pred[k]>0.5):\n",
        "            y_pred[k]=1\n",
        "          else:\n",
        "           y_pred[k]=0 \n",
        "        accuracy=np.mean(np.equal(y_pred, y_validation))*100\n",
        "        print(M,N)\n",
        "        print(eta[i])\n",
        "        M+=split\n",
        "        N+=split\n",
        "        Accuracy=Accuracy+accuracy\n",
        "        #print(accuracy)\n",
        "      weights.append(w)\n",
        "      bais.append(b)\n",
        "      print('this is-------------------------',i+1,'-------------------------iteration')\n",
        "      Averege_Accuracy=(Accuracy/cv)\n",
        "      learning_rate.append(eta[i])\n",
        "      avg_accuracy.append(Averege_Accuracy)\n",
        "      print('average accuracy =',Averege_Accuracy)\n",
        "      Accuracy=0"
      ],
      "metadata": {
        "colab": {
          "base_uri": "https://localhost:8080/"
        },
        "id": "AHlewk941GAm",
        "outputId": "7c29de25-0e02-4d03-d74e-3b4ad795bbd9"
      },
      "execution_count": 85,
      "outputs": [
        {
          "output_type": "stream",
          "name": "stdout",
          "text": [
            "0 1266\n",
            "0.001\n",
            "1266 2532\n",
            "0.001\n",
            "2532 3798\n",
            "0.001\n",
            "3798 5064\n",
            "0.001\n",
            "5064 6330\n",
            "0.001\n",
            "6330 7596\n",
            "0.001\n",
            "7596 8862\n",
            "0.001\n",
            "8862 10128\n",
            "0.001\n",
            "10128 11394\n",
            "0.001\n",
            "11394 12660\n",
            "0.001\n",
            "this is------------------------- 1 -------------------------iteration\n",
            "average accuracy = 10.126382306477092\n",
            "0 1266\n",
            "0.01\n",
            "1266 2532\n",
            "0.01\n",
            "2532 3798\n",
            "0.01\n",
            "3798 5064\n",
            "0.01\n",
            "5064 6330\n",
            "0.01\n",
            "6330 7596\n",
            "0.01\n",
            "7596 8862\n",
            "0.01\n",
            "8862 10128\n",
            "0.01\n",
            "10128 11394\n",
            "0.01\n",
            "11394 12660\n",
            "0.01\n",
            "this is------------------------- 2 -------------------------iteration\n",
            "average accuracy = 65.15797788309636\n",
            "0 1266\n",
            "0.1\n",
            "1266 2532\n",
            "0.1\n",
            "2532 3798\n",
            "0.1\n",
            "3798 5064\n",
            "0.1\n",
            "5064 6330\n",
            "0.1\n",
            "6330 7596\n",
            "0.1\n",
            "7596 8862\n",
            "0.1\n",
            "8862 10128\n",
            "0.1\n",
            "10128 11394\n",
            "0.1\n",
            "11394 12660\n",
            "0.1\n",
            "this is------------------------- 3 -------------------------iteration\n",
            "average accuracy = 98.49921011058451\n"
          ]
        }
      ]
    },
    {
      "cell_type": "code",
      "source": [],
      "metadata": {
        "id": "2KRRiEiL1KOH"
      },
      "execution_count": 85,
      "outputs": []
    }
  ]
}